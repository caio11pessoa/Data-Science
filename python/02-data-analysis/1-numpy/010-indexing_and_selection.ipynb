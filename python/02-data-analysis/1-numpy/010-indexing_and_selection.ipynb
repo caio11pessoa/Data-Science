{
 "cells": [
  {
   "cell_type": "markdown",
   "metadata": {},
   "source": [
    "# Indexing and Selection\n",
    "\n",
    "Formas de acessar um ou multiplos elementos de um array."
   ]
  },
  {
   "cell_type": "code",
   "execution_count": 1,
   "metadata": {},
   "outputs": [],
   "source": [
    "import numpy as np"
   ]
  },
  {
   "cell_type": "code",
   "execution_count": 2,
   "metadata": {},
   "outputs": [
    {
     "output_type": "execute_result",
     "data": {
      "text/plain": "(array([ 1,  2,  3,  4,  5,  6,  7,  8,  9, 10]), numpy.ndarray)"
     },
     "metadata": {},
     "execution_count": 2
    }
   ],
   "source": [
    "array = np.arange(1, 11)\n",
    "array, type(array)"
   ]
  },
  {
   "cell_type": "markdown",
   "metadata": {},
   "source": [
    "Assim como nas listas, elementos individuais de um array são acessados com a mesma notação.\n",
    "\n",
    "E o mesmo vale caso seja selecionado uma \"fatia\" do array."
   ]
  },
  {
   "cell_type": "code",
   "execution_count": 3,
   "metadata": {},
   "outputs": [
    {
     "output_type": "execute_result",
     "data": {
      "text/plain": "(4, array([3, 4, 5]))"
     },
     "metadata": {},
     "execution_count": 3
    }
   ],
   "source": [
    "array[3], array[2:5]"
   ]
  },
  {
   "cell_type": "markdown",
   "metadata": {},
   "source": [
    "## Broadcasting\n",
    "\n",
    "É possível atribuir um valor para multiplas posições de um array."
   ]
  },
  {
   "cell_type": "code",
   "execution_count": 4,
   "metadata": {},
   "outputs": [
    {
     "output_type": "execute_result",
     "data": {
      "text/plain": "array([ 1,  2,  3,  4,  5,  6, 10, 10, 10, 10])"
     },
     "metadata": {},
     "execution_count": 4
    }
   ],
   "source": [
    "# Atribuindo 10 para os ultimos 5 elementos do array\n",
    "array[6:] = 10\n",
    "array"
   ]
  },
  {
   "cell_type": "markdown",
   "metadata": {},
   "source": [
    "## Atribuição\n",
    "\n",
    "Para evitar problemas com memória, atribuir partes de um array para outra variável é feita por referência, então alterar uma refletirá na outra. para evitar isso, utiliza-se o método `copy`."
   ]
  },
  {
   "cell_type": "code",
   "execution_count": 5,
   "metadata": {},
   "outputs": [
    {
     "output_type": "execute_result",
     "data": {
      "text/plain": "array([ 3,  4,  5,  6, 10, 10])"
     },
     "metadata": {},
     "execution_count": 5
    }
   ],
   "source": [
    "# Atribuição por referência\n",
    "slice_of_array = array[2:8]\n",
    "slice_of_array"
   ]
  },
  {
   "cell_type": "code",
   "execution_count": 6,
   "metadata": {},
   "outputs": [
    {
     "output_type": "execute_result",
     "data": {
      "text/plain": "array([5, 6])"
     },
     "metadata": {},
     "execution_count": 6
    }
   ],
   "source": [
    "slice_of_array[2:4]"
   ]
  },
  {
   "cell_type": "code",
   "execution_count": 7,
   "metadata": {},
   "outputs": [
    {
     "output_type": "execute_result",
     "data": {
      "text/plain": "array([ 3,  4, 42, 42, 10, 10])"
     },
     "metadata": {},
     "execution_count": 7
    }
   ],
   "source": [
    "slice_of_array[2:4] = 42\n",
    "slice_of_array"
   ]
  },
  {
   "cell_type": "code",
   "execution_count": 8,
   "metadata": {},
   "outputs": [
    {
     "output_type": "execute_result",
     "data": {
      "text/plain": "array([ 1,  2,  3,  4, 42, 42, 10, 10, 10, 10])"
     },
     "metadata": {},
     "execution_count": 8
    }
   ],
   "source": [
    "array"
   ]
  },
  {
   "cell_type": "code",
   "execution_count": 9,
   "metadata": {},
   "outputs": [
    {
     "output_type": "execute_result",
     "data": {
      "text/plain": "array([ 1,  2, 24, 24, 24, 24, 24, 24, 10, 10])"
     },
     "metadata": {},
     "execution_count": 9
    }
   ],
   "source": [
    "copy_of_array = array.copy()\n",
    "\n",
    "copy_of_array[2:8] = 24\n",
    "\n",
    "copy_of_array"
   ]
  },
  {
   "cell_type": "code",
   "execution_count": 10,
   "metadata": {},
   "outputs": [
    {
     "output_type": "execute_result",
     "data": {
      "text/plain": "array([ 1,  2,  3,  4, 42, 42, 10, 10, 10, 10])"
     },
     "metadata": {},
     "execution_count": 10
    }
   ],
   "source": [
    "array"
   ]
  },
  {
   "cell_type": "code",
   "execution_count": 11,
   "metadata": {},
   "outputs": [
    {
     "output_type": "execute_result",
     "data": {
      "text/plain": "array([[ 0,  5, 10],\n       [15, 20, 25],\n       [30, 35, 40]])"
     },
     "metadata": {},
     "execution_count": 11
    }
   ],
   "source": [
    "matrix = np.array([[0, 5, 10],[15, 20, 25],[30, 35, 40]])\n",
    "matrix"
   ]
  },
  {
   "cell_type": "code",
   "execution_count": 12,
   "metadata": {},
   "outputs": [
    {
     "output_type": "execute_result",
     "data": {
      "text/plain": "25"
     },
     "metadata": {},
     "execution_count": 12
    }
   ],
   "source": [
    "# Acessando elemento com 2 colchetes\n",
    "matrix[1][2]"
   ]
  },
  {
   "cell_type": "code",
   "execution_count": 13,
   "metadata": {},
   "outputs": [
    {
     "output_type": "execute_result",
     "data": {
      "text/plain": "25"
     },
     "metadata": {},
     "execution_count": 13
    }
   ],
   "source": [
    "# Acessando elemento com 1 colchete\n",
    "matrix[1, 2]"
   ]
  },
  {
   "cell_type": "code",
   "execution_count": 14,
   "metadata": {},
   "outputs": [
    {
     "output_type": "execute_result",
     "data": {
      "text/plain": "array([[15, 20],\n       [30, 35]])"
     },
     "metadata": {},
     "execution_count": 14
    }
   ],
   "source": [
    "# Selecionando um pedaço da matrix\n",
    "matrix[1: , :2]"
   ]
  },
  {
   "cell_type": "markdown",
   "metadata": {},
   "source": [
    "# Conditional Selection\n",
    "\n",
    "Ao se usar um array como operando de uma operação relacional, será retornado um array com o resultado da operação aplicado a cada elemento. O mesmo vale para as demais operações.\n",
    "\n",
    "Ao passar esse resultado entre colchetes, será retornado os elementos de cujo o índice corresponde a verdadeiro."
   ]
  },
  {
   "cell_type": "code",
   "execution_count": 15,
   "metadata": {},
   "outputs": [
    {
     "output_type": "execute_result",
     "data": {
      "text/plain": "array([0, 1, 2, 3, 4, 5, 6, 7, 8, 9])"
     },
     "metadata": {},
     "execution_count": 15
    }
   ],
   "source": [
    "new_array = np.arange(0, 10)\n",
    "new_array"
   ]
  },
  {
   "cell_type": "code",
   "execution_count": 16,
   "metadata": {},
   "outputs": [
    {
     "output_type": "execute_result",
     "data": {
      "text/plain": "array([ True,  True,  True,  True,  True, False, False, False, False,\n       False])"
     },
     "metadata": {},
     "execution_count": 16
    }
   ],
   "source": [
    "bool_array = 5 > new_array\n",
    "bool_array"
   ]
  },
  {
   "cell_type": "code",
   "execution_count": 17,
   "metadata": {},
   "outputs": [
    {
     "output_type": "execute_result",
     "data": {
      "text/plain": "array([0, 1, 2, 3, 4])"
     },
     "metadata": {},
     "execution_count": 17
    }
   ],
   "source": [
    "new_array[bool_array]"
   ]
  },
  {
   "cell_type": "code",
   "execution_count": 18,
   "metadata": {},
   "outputs": [
    {
     "output_type": "execute_result",
     "data": {
      "text/plain": "array([0, 2, 4, 6, 8])"
     },
     "metadata": {},
     "execution_count": 18
    }
   ],
   "source": [
    "new_array[(new_array % 2) == 0]"
   ]
  }
 ],
 "metadata": {
  "language_info": {
   "codemirror_mode": {
    "name": "ipython",
    "version": 3
   },
   "file_extension": ".py",
   "mimetype": "text/x-python",
   "name": "python",
   "nbconvert_exporter": "python",
   "pygments_lexer": "ipython3",
   "version": "3.7.7-final"
  },
  "orig_nbformat": 2,
  "kernelspec": {
   "name": "bootcamp_venv",
   "display_name": "Bootcamp"
  }
 },
 "nbformat": 4,
 "nbformat_minor": 2
}