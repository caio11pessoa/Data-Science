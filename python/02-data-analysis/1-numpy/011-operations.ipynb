{
 "cells": [
  {
   "cell_type": "markdown",
   "metadata": {},
   "source": [
    "# Operations\n",
    "\n",
    "## Operações com arrays de mesma forma\n",
    "\n",
    "O array resultante possui a mesma forma e em cada posição o resultado da operação envolvendo os valores que estavam na mesma posição em cada array."
   ]
  },
  {
   "cell_type": "code",
   "execution_count": 1,
   "metadata": {},
   "outputs": [],
   "source": [
    "import numpy as np"
   ]
  },
  {
   "cell_type": "code",
   "execution_count": 2,
   "metadata": {},
   "outputs": [
    {
     "output_type": "execute_result",
     "data": {
      "text/plain": "(array([0, 1, 2, 3, 4]), array([5, 6, 7, 8, 9]))"
     },
     "metadata": {},
     "execution_count": 2
    }
   ],
   "source": [
    "array1, array2 = np.arange(0, 5), np.arange(5, 10)\n",
    "array1, array2"
   ]
  },
  {
   "cell_type": "code",
   "execution_count": 3,
   "metadata": {},
   "outputs": [
    {
     "output_type": "execute_result",
     "data": {
      "text/plain": "array([ 5,  7,  9, 11, 13])"
     },
     "metadata": {},
     "execution_count": 3
    }
   ],
   "source": [
    "# Soma\n",
    "array1 + array2"
   ]
  },
  {
   "cell_type": "code",
   "execution_count": 4,
   "metadata": {},
   "outputs": [
    {
     "output_type": "execute_result",
     "data": {
      "text/plain": "array([-5, -5, -5, -5, -5])"
     },
     "metadata": {},
     "execution_count": 4
    }
   ],
   "source": [
    "# Subtração\n",
    "array1 - array2"
   ]
  },
  {
   "cell_type": "code",
   "execution_count": 5,
   "metadata": {},
   "outputs": [
    {
     "output_type": "execute_result",
     "data": {
      "text/plain": "array([ 0,  6, 14, 24, 36])"
     },
     "metadata": {},
     "execution_count": 5
    }
   ],
   "source": [
    "# Multiplicação\n",
    "array1 * array2"
   ]
  },
  {
   "cell_type": "code",
   "execution_count": 6,
   "metadata": {},
   "outputs": [
    {
     "output_type": "execute_result",
     "data": {
      "text/plain": "array([0.        , 0.16666667, 0.28571429, 0.375     , 0.44444444])"
     },
     "metadata": {},
     "execution_count": 6
    }
   ],
   "source": [
    "# Divisão\n",
    "array1 / array2"
   ]
  },
  {
   "cell_type": "code",
   "execution_count": 7,
   "metadata": {},
   "outputs": [
    {
     "output_type": "execute_result",
     "data": {
      "text/plain": "array([0, 0, 0, 0, 0])"
     },
     "metadata": {},
     "execution_count": 7
    }
   ],
   "source": [
    "# Divisão inteira\n",
    "array1 // array2"
   ]
  },
  {
   "cell_type": "code",
   "execution_count": 8,
   "metadata": {},
   "outputs": [
    {
     "output_type": "execute_result",
     "data": {
      "text/plain": "array([0, 1, 2, 3, 4])"
     },
     "metadata": {},
     "execution_count": 8
    }
   ],
   "source": [
    "# Módulo\n",
    "array1 % array2"
   ]
  },
  {
   "cell_type": "code",
   "execution_count": 9,
   "metadata": {},
   "outputs": [
    {
     "output_type": "execute_result",
     "data": {
      "text/plain": "array([     0,      1,    128,   6561, 262144])"
     },
     "metadata": {},
     "execution_count": 9
    }
   ],
   "source": [
    "# Exponenciação\n",
    "array1 ** array2"
   ]
  },
  {
   "cell_type": "markdown",
   "metadata": {},
   "source": [
    "## Operações com apenas uma escalar\n",
    "\n",
    "O array resultante possui possui a mesma forma que o array inicial e em cada posição o resultado da operação entre o valor na posição e a escalar."
   ]
  },
  {
   "cell_type": "code",
   "execution_count": 10,
   "metadata": {},
   "outputs": [
    {
     "output_type": "execute_result",
     "data": {
      "text/plain": "array([  0,  42,  84, 126, 168])"
     },
     "metadata": {},
     "execution_count": 10
    }
   ],
   "source": [
    "array1 * 42"
   ]
  },
  {
   "cell_type": "markdown",
   "metadata": {},
   "source": [
    "# Métodos interessantes"
   ]
  },
  {
   "cell_type": "code",
   "execution_count": 11,
   "metadata": {},
   "outputs": [
    {
     "output_type": "execute_result",
     "data": {
      "text/plain": "array([0.        , 1.        , 1.41421356, 1.73205081, 2.        ])"
     },
     "metadata": {},
     "execution_count": 11
    }
   ],
   "source": [
    "# Retorna um array com a raiz quadrada de cada elemento\n",
    "np.sqrt(array1)"
   ]
  },
  {
   "cell_type": "code",
   "execution_count": 12,
   "metadata": {},
   "outputs": [
    {
     "output_type": "execute_result",
     "data": {
      "text/plain": "array([ 1.        ,  2.71828183,  7.3890561 , 20.08553692, 54.59815003])"
     },
     "metadata": {},
     "execution_count": 12
    }
   ],
   "source": [
    "# Retorna um array com 'e' elevado a cada elemento\n",
    "np.exp(array1)"
   ]
  }
 ],
 "metadata": {
  "language_info": {
   "codemirror_mode": {
    "name": "ipython",
    "version": 3
   },
   "file_extension": ".py",
   "mimetype": "text/x-python",
   "name": "python",
   "nbconvert_exporter": "python",
   "pygments_lexer": "ipython3",
   "version": "3.7.7-final"
  },
  "orig_nbformat": 2,
  "kernelspec": {
   "name": "bootcamp_venv",
   "display_name": "Bootcamp"
  }
 },
 "nbformat": 4,
 "nbformat_minor": 2
}