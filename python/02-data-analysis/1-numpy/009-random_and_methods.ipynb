{
 "cells": [
  {
   "cell_type": "markdown",
   "metadata": {},
   "source": [
    "# Random\n",
    "\n",
    "NumPy possui diversas formas de criar arrays com números aleatórios."
   ]
  },
  {
   "cell_type": "code",
   "execution_count": 1,
   "metadata": {},
   "outputs": [],
   "source": [
    "import numpy as np"
   ]
  },
  {
   "cell_type": "code",
   "execution_count": 2,
   "metadata": {},
   "outputs": [
    {
     "output_type": "execute_result",
     "data": {
      "text/plain": "array([[0.58098081, 0.91022123, 0.53946225],\n       [0.95413108, 0.25887835, 0.20777074]])"
     },
     "metadata": {},
     "execution_count": 2
    }
   ],
   "source": [
    "# Retorna um array com as dimensões passadas como parâmetro com números aleatórios entre [0, 1)\n",
    "np.random.rand(2, 3)"
   ]
  },
  {
   "cell_type": "code",
   "execution_count": 3,
   "metadata": {},
   "outputs": [
    {
     "output_type": "execute_result",
     "data": {
      "text/plain": "array([[0.33040019, 0.36360988],\n       [0.58237381, 0.9582118 ],\n       [0.42020667, 0.63040295]])"
     },
     "metadata": {},
     "execution_count": 3
    }
   ],
   "source": [
    "# Retorna um array com as dimensões passadas como parâmetro com números aleatórios de uma distribuição normal centrada em 0\n",
    "np.random.randn(3, 2)"
   ]
  },
  {
   "cell_type": "code",
   "execution_count": 4,
   "metadata": {},
   "outputs": [
    {
     "output_type": "execute_result",
     "data": {
      "text/plain": "array([[12, 27, 10, 12],\n       [28, 38, 28, 24]])"
     },
     "metadata": {},
     "execution_count": 4
    }
   ],
   "source": [
    "# Retorna um array de inteiros dentro do intervalo ['low', 'high') com as dimensões passadas como parâmetro\n",
    "np.random.randint(\n",
    "    low=0,\n",
    "    high=50,\n",
    "    size=(2, 4)\n",
    ")"
   ]
  },
  {
   "cell_type": "markdown",
   "metadata": {},
   "source": [
    "# Array Methods"
   ]
  },
  {
   "cell_type": "code",
   "execution_count": 5,
   "metadata": {},
   "outputs": [
    {
     "output_type": "execute_result",
     "data": {
      "text/plain": "array([36, 43,  8, 30, 32, 18,  4, 33,  2, 16, 31, 27])"
     },
     "metadata": {},
     "execution_count": 5
    }
   ],
   "source": [
    "np_arr = np.random.randint(0, 50, 12)\n",
    "np_arr"
   ]
  },
  {
   "cell_type": "code",
   "execution_count": 6,
   "metadata": {},
   "outputs": [
    {
     "output_type": "execute_result",
     "data": {
      "text/plain": "array([[36, 43,  8, 30],\n       [32, 18,  4, 33],\n       [ 2, 16, 31, 27]])"
     },
     "metadata": {},
     "execution_count": 6
    }
   ],
   "source": [
    "# reshape: muda as dimensões do array, porém deve conter o mesmo número de elementos\n",
    "np_mat = np_arr.reshape((3, 4))\n",
    "np_mat"
   ]
  },
  {
   "cell_type": "code",
   "execution_count": 7,
   "metadata": {},
   "outputs": [
    {
     "output_type": "stream",
     "name": "stdout",
     "text": "\nmaximum: 43;\nmax at: index 1;\nminimum: 2;\nmin at: index 8;\nmean: 23.333333333333332;\nstd: 12.840906856172149;\nsum: 280;\nshape: (12,);\ndata type: int64\n\n"
    }
   ],
   "source": [
    "# Metrics - Retorna:\n",
    "maximum = np_arr.max()      # maximo valor do array\n",
    "max_loc = np_arr.argmax()   # índice do maximo\n",
    "minimum = np_arr.min()      # mínimo valor do array\n",
    "min_loc = np_arr.argmin()   # índice do mínimo\n",
    "\n",
    "mean = np_arr.mean()        # média aritmética dos valores do array\n",
    "std = np_arr.std()          # desvio padrão dos valores do array\n",
    "soma = np_arr.sum()         # soma dos valores do array\n",
    "\n",
    "print(f'''\n",
    "maximum: {maximum};\n",
    "max at: index {max_loc};\n",
    "minimum: {minimum};\n",
    "min at: index {min_loc};\n",
    "mean: {mean};\n",
    "std: {std};\n",
    "sum: {soma};\n",
    "shape: {np_arr.shape};\n",
    "data type: {np_arr.dtype}\n",
    "''')"
   ]
  }
 ],
 "metadata": {
  "language_info": {
   "codemirror_mode": {
    "name": "ipython",
    "version": 3
   },
   "file_extension": ".py",
   "mimetype": "text/x-python",
   "name": "python",
   "nbconvert_exporter": "python",
   "pygments_lexer": "ipython3",
   "version": "3.7.7-final"
  },
  "orig_nbformat": 2,
  "kernelspec": {
   "name": "bootcamp_venv",
   "display_name": "Bootcamp"
  }
 },
 "nbformat": 4,
 "nbformat_minor": 2
}