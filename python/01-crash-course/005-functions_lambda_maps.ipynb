{
 "cells": [
  {
   "cell_type": "markdown",
   "metadata": {},
   "source": [
    "# Functions\n",
    "\n",
    "Funções são blocos de código que podem ser chamados multiplas vezes, podem possuir um _nome_, _parâmetros_ e _retorno_."
   ]
  },
  {
   "cell_type": "code",
   "execution_count": 1,
   "metadata": {},
   "outputs": [],
   "source": [
    "def calc_square(integer = 0):\n",
    "    '''\n",
    "    Esta docstring serve para\n",
    "    documentar a função que\n",
    "    calcula, printa e retorna\n",
    "    o quadrado da entrada.\n",
    "    '''\n",
    "    result = integer ** 2\n",
    "    print(f'{integer} ** 2 = {result}')\n",
    "    return result"
   ]
  },
  {
   "cell_type": "code",
   "execution_count": 2,
   "metadata": {},
   "outputs": [
    {
     "output_type": "stream",
     "name": "stdout",
     "text": "3 ** 2 = 9\n"
    },
    {
     "output_type": "execute_result",
     "data": {
      "text/plain": "9"
     },
     "metadata": {},
     "execution_count": 2
    }
   ],
   "source": [
    "calc_square(3)"
   ]
  },
  {
   "cell_type": "code",
   "execution_count": 3,
   "metadata": {},
   "outputs": [
    {
     "output_type": "stream",
     "text": "\u001b[0;31mSignature:\u001b[0m \u001b[0mcalc_square\u001b[0m\u001b[0;34m(\u001b[0m\u001b[0minteger\u001b[0m\u001b[0;34m=\u001b[0m\u001b[0;36m0\u001b[0m\u001b[0;34m)\u001b[0m\u001b[0;34m\u001b[0m\u001b[0;34m\u001b[0m\u001b[0m\n\u001b[0;31mDocstring:\u001b[0m\nEsta docstring serve para\ndocumentar a função que\ncalcula, printa e retorna\no quadrado da entrada.\n\u001b[0;31mFile:\u001b[0m      ~/Desktop/repo/Data-Science/python/01-crash-course/<ipython-input-1-1140d277c5da>\n\u001b[0;31mType:\u001b[0m      function\n"
    }
   ],
   "source": [
    "# Colocar ? após uma variável ou função e executar a célula revelará mais detalhes sobre a variável ou função\n",
    "calc_square?"
   ]
  },
  {
   "cell_type": "markdown",
   "metadata": {},
   "source": [
    "# Lambda expressions\n",
    "\n",
    "São uma forma mais reduzida de escrever funções mais simples. Como não possui um nome em sua assinatura, é uma função anônima."
   ]
  },
  {
   "cell_type": "code",
   "execution_count": 4,
   "metadata": {},
   "outputs": [
    {
     "output_type": "stream",
     "name": "stdout",
     "text": "lambda\n"
    },
    {
     "output_type": "execute_result",
     "data": {
      "text/plain": "<function __main__.<lambda>(param)>"
     },
     "metadata": {},
     "execution_count": 4
    }
   ],
   "source": [
    "# Sem lambda expression\n",
    "def double1(num):\n",
    "    return num * 2\n",
    "\n",
    "# Com lambda expression\n",
    "lambda num: num * 2\n",
    "\n",
    "p = lambda param: print(param)\n",
    "p('lambda')\n",
    "p"
   ]
  },
  {
   "cell_type": "markdown",
   "metadata": {},
   "source": [
    "# Map and Filter\n",
    "\n",
    "São funções da biblioteca padrão que recebem uma função e um objeto que suporte iteração (como uma lista ou tupla).\n",
    "\n",
    "## Map\n",
    "\n",
    "Aplica a função para cada elemento da lista e retona um objeto com o resultado de cada elemento"
   ]
  },
  {
   "cell_type": "code",
   "execution_count": 5,
   "metadata": {},
   "outputs": [
    {
     "output_type": "execute_result",
     "data": {
      "text/plain": "(<map at 0x7feef0326110>, [0, 2, 4, 6, 8])"
     },
     "metadata": {},
     "execution_count": 5
    }
   ],
   "source": [
    "x = range(5)\n",
    "\n",
    "y = map(double1, x)\n",
    "\n",
    "y, list(y)"
   ]
  },
  {
   "cell_type": "code",
   "execution_count": 6,
   "metadata": {},
   "outputs": [
    {
     "output_type": "stream",
     "text": "\u001b[0;31mInit signature:\u001b[0m \u001b[0mmap\u001b[0m\u001b[0;34m(\u001b[0m\u001b[0mself\u001b[0m\u001b[0;34m,\u001b[0m \u001b[0;34m/\u001b[0m\u001b[0;34m,\u001b[0m \u001b[0;34m*\u001b[0m\u001b[0margs\u001b[0m\u001b[0;34m,\u001b[0m \u001b[0;34m**\u001b[0m\u001b[0mkwargs\u001b[0m\u001b[0;34m)\u001b[0m\u001b[0;34m\u001b[0m\u001b[0;34m\u001b[0m\u001b[0m\n\u001b[0;31mDocstring:\u001b[0m     \nmap(func, *iterables) --> map object\n\nMake an iterator that computes the function using arguments from\neach of the iterables.  Stops when the shortest iterable is exhausted.\n\u001b[0;31mType:\u001b[0m           type\n\u001b[0;31mSubclasses:\u001b[0m     \n"
    }
   ],
   "source": [
    "map?"
   ]
  },
  {
   "cell_type": "markdown",
   "metadata": {},
   "source": [
    "## Filter\n",
    "\n",
    "Recebe uma função que retorna verdadeiro ou falso e uma sequência e retornará apenas os elementos que fizeram a função retornar `True`."
   ]
  },
  {
   "cell_type": "code",
   "execution_count": 7,
   "metadata": {},
   "outputs": [
    {
     "output_type": "execute_result",
     "data": {
      "text/plain": "(<filter at 0x7feef031d150>, [0, 2, 4])"
     },
     "metadata": {},
     "execution_count": 7
    }
   ],
   "source": [
    "x = range(5)\n",
    "\n",
    "f = filter(lambda num: (num % 2) == 0, x)\n",
    "\n",
    "f, list(f)"
   ]
  },
  {
   "cell_type": "code",
   "execution_count": 8,
   "metadata": {},
   "outputs": [
    {
     "output_type": "stream",
     "text": "\u001b[0;31mInit signature:\u001b[0m \u001b[0mfilter\u001b[0m\u001b[0;34m(\u001b[0m\u001b[0mself\u001b[0m\u001b[0;34m,\u001b[0m \u001b[0;34m/\u001b[0m\u001b[0;34m,\u001b[0m \u001b[0;34m*\u001b[0m\u001b[0margs\u001b[0m\u001b[0;34m,\u001b[0m \u001b[0;34m**\u001b[0m\u001b[0mkwargs\u001b[0m\u001b[0;34m)\u001b[0m\u001b[0;34m\u001b[0m\u001b[0;34m\u001b[0m\u001b[0m\n\u001b[0;31mDocstring:\u001b[0m     \nfilter(function or None, iterable) --> filter object\n\nReturn an iterator yielding those items of iterable for which function(item)\nis true. If function is None, return the items that are true.\n\u001b[0;31mType:\u001b[0m           type\n\u001b[0;31mSubclasses:\u001b[0m     \n"
    }
   ],
   "source": [
    "filter?"
   ]
  }
 ],
 "metadata": {
  "language_info": {
   "codemirror_mode": {
    "name": "ipython",
    "version": 3
   },
   "file_extension": ".py",
   "mimetype": "text/x-python",
   "name": "python",
   "nbconvert_exporter": "python",
   "pygments_lexer": "ipython3",
   "version": "3.7.7-final"
  },
  "orig_nbformat": 2,
  "kernelspec": {
   "name": "bootcamp_venv",
   "display_name": "Bootcamp"
  }
 },
 "nbformat": 4,
 "nbformat_minor": 2
}