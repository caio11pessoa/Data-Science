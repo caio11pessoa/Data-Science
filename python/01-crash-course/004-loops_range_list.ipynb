{
 "cells": [
  {
   "cell_type": "markdown",
   "metadata": {},
   "source": [
    "# Loops\n",
    "\n",
    "_Loops_ são estruturas que repetem a execução de um bloco de código em quantidade determinada (`for`) ou em quantidade indeterminada (`while`) enquanto uma condição for verdadeira.\n",
    "Cada repetição é chamada de **iteração**\n",
    "\n",
    "## for"
   ]
  },
  {
   "cell_type": "code",
   "execution_count": 1,
   "metadata": {},
   "outputs": [
    {
     "output_type": "stream",
     "name": "stdout",
     "text": "1\n2\n3\n4\n5\n"
    }
   ],
   "source": [
    "seq = [1, 2, 3, 4, 5]\n",
    "\n",
    "# Em cada iteração, num assume um valor da sequência\n",
    "for num in seq:\n",
    "    print(num)"
   ]
  },
  {
   "cell_type": "markdown",
   "metadata": {},
   "source": [
    "## while"
   ]
  },
  {
   "cell_type": "code",
   "execution_count": 2,
   "metadata": {},
   "outputs": [
    {
     "output_type": "stream",
     "name": "stdout",
     "text": "i is 0\ni is 1\ni is 2\ni is 3\ni is 4\n"
    }
   ],
   "source": [
    "i = 0\n",
    "\n",
    "# Enquanto a condição for verdadeira o loop continuará a se repetir\n",
    "while i < 5:\n",
    "    print(f'i is {i}')\n",
    "    i += 1"
   ]
  },
  {
   "cell_type": "markdown",
   "metadata": {},
   "source": [
    "# Range\n",
    "\n",
    "Intervalos podem ser definidos com a função `range`, que retorna um intervalo discreto de valores"
   ]
  },
  {
   "cell_type": "code",
   "execution_count": 3,
   "metadata": {},
   "outputs": [
    {
     "output_type": "stream",
     "name": "stdout",
     "text": "range(0, 5)\n0\n1\n2\n3\n4\n"
    }
   ],
   "source": [
    "# Forma 1: declarando apenas o fim do intervalo\n",
    "# O retorno será um intervalo [0, 5) => [0, 1, 2, 3, 4]\n",
    "intervalo1 = range(5)\n",
    "print(intervalo1)\n",
    "\n",
    "# Em cada iteração, i assume um valor do intervalo\n",
    "for i in intervalo1:\n",
    "    print(i)"
   ]
  },
  {
   "cell_type": "code",
   "execution_count": 4,
   "metadata": {},
   "outputs": [
    {
     "output_type": "stream",
     "name": "stdout",
     "text": "range(3, 15, 3)\n3\n6\n9\n12\n"
    }
   ],
   "source": [
    "# Forma 2: declarando o inicio e fim do intervalo (nesse caso, o passo de um valor para o outro é opcional)\n",
    "# O retorno será um intervalo [3, 12) => [3, 6, 9, 12]\n",
    "intervalo2 = range(3, 15, 3)\n",
    "print(intervalo2)\n",
    "\n",
    "# Em cada iteração, i assume um valor do intervalo\n",
    "for j in intervalo2:\n",
    "    print(j)"
   ]
  },
  {
   "cell_type": "markdown",
   "metadata": {},
   "source": [
    "# List comprehension\n",
    "\n",
    "É uma forma reduzida de declarar uma lista, semelhante à declaração de conjunto por compreensão, ou seja, é por meio de uma lei de formação."
   ]
  },
  {
   "cell_type": "code",
   "execution_count": 5,
   "metadata": {},
   "outputs": [
    {
     "output_type": "stream",
     "name": "stdout",
     "text": "[0, 1, 4, 9, 16]\n[0, 1, 4, 9, 16]\n"
    }
   ],
   "source": [
    "x = range(5)\n",
    "\n",
    "# Sem list comprehension\n",
    "y1 = []\n",
    "for num in x:\n",
    "    y1.append(num ** 2)\n",
    "\n",
    "print(y1)\n",
    "\n",
    "# Com list comprehension\n",
    "y2 = [num ** 2 for num in x]\n",
    "\n",
    "print(y2)"
   ]
  }
 ],
 "metadata": {
  "language_info": {
   "codemirror_mode": {
    "name": "ipython",
    "version": 3
   },
   "file_extension": ".py",
   "mimetype": "text/x-python",
   "name": "python",
   "nbconvert_exporter": "python",
   "pygments_lexer": "ipython3",
   "version": "3.7.7-final"
  },
  "orig_nbformat": 2,
  "kernelspec": {
   "name": "bootcamp_venv",
   "display_name": "Bootcamp"
  }
 },
 "nbformat": 4,
 "nbformat_minor": 2
}