{
 "cells": [
  {
   "cell_type": "markdown",
   "metadata": {},
   "source": [
    "# Methods\n",
    "\n",
    "Alguns outros métodos interessantes em python.\n",
    "\n",
    "## Em strings"
   ]
  },
  {
   "cell_type": "code",
   "execution_count": 1,
   "metadata": {},
   "outputs": [
    {
     "output_type": "execute_result",
     "data": {
      "text/plain": "'string'"
     },
     "metadata": {},
     "execution_count": 1
    }
   ],
   "source": [
    "'StRiNg'.lower() # retorna a string com letras minúsculas"
   ]
  },
  {
   "cell_type": "code",
   "execution_count": 2,
   "metadata": {},
   "outputs": [
    {
     "output_type": "execute_result",
     "data": {
      "text/plain": "['um', 'monte', 'de', 'texto']"
     },
     "metadata": {},
     "execution_count": 2
    }
   ],
   "source": [
    "# separa a string em lista de acordo com o separador (' ' espaço caso não seja informado)\n",
    "'um monte de texto'.split()"
   ]
  },
  {
   "cell_type": "markdown",
   "metadata": {},
   "source": [
    "# Em dicionários"
   ]
  },
  {
   "cell_type": "code",
   "execution_count": 3,
   "metadata": {},
   "outputs": [
    {
     "output_type": "execute_result",
     "data": {
      "text/plain": "dict_keys(['k1', 'k2', 'k3'])"
     },
     "metadata": {},
     "execution_count": 3
    }
   ],
   "source": [
    "d = {'k1':'v1', 'k2':'v2', 'k3':'v3'}\n",
    "\n",
    "d.keys() # Retorna uma lista das chaves"
   ]
  },
  {
   "cell_type": "code",
   "execution_count": 4,
   "metadata": {},
   "outputs": [
    {
     "output_type": "execute_result",
     "data": {
      "text/plain": "dict_values(['v1', 'v2', 'v3'])"
     },
     "metadata": {},
     "execution_count": 4
    }
   ],
   "source": [
    "d.values() # Retorna uma lista dos valores"
   ]
  },
  {
   "cell_type": "code",
   "execution_count": 5,
   "metadata": {},
   "outputs": [
    {
     "output_type": "execute_result",
     "data": {
      "text/plain": "dict_items([('k1', 'v1'), ('k2', 'v2'), ('k3', 'v3')])"
     },
     "metadata": {},
     "execution_count": 5
    }
   ],
   "source": [
    "d.items() # Retorna uma lista de tuplas com pares (key, value)"
   ]
  },
  {
   "cell_type": "markdown",
   "metadata": {},
   "source": [
    "# Tuple unpacking\n",
    "\n",
    "Semelhante ao operador de destructuring em JavaScript."
   ]
  },
  {
   "cell_type": "code",
   "execution_count": 6,
   "metadata": {},
   "outputs": [
    {
     "output_type": "stream",
     "name": "stdout",
     "text": "sem: 1\nsem: 3\nsem: 5\ncom: 1\ncom: 3\ncom: 5\n"
    }
   ],
   "source": [
    "tp = [\n",
    "    (1, 2),\n",
    "    (3, 4),\n",
    "    (5, 6)\n",
    "]\n",
    "\n",
    "# Sem tuple unpacking\n",
    "for item in tp:\n",
    "    print(f'sem: {item[0]}')\n",
    "\n",
    "# Com tuple unpacking\n",
    "for a,b in tp:\n",
    "    print(f'com: {a}')"
   ]
  }
 ],
 "metadata": {
  "language_info": {
   "codemirror_mode": {
    "name": "ipython",
    "version": 3
   },
   "file_extension": ".py",
   "mimetype": "text/x-python",
   "name": "python",
   "nbconvert_exporter": "python",
   "pygments_lexer": "ipython3",
   "version": "3.7.7-final"
  },
  "orig_nbformat": 2,
  "kernelspec": {
   "name": "bootcamp_venv",
   "display_name": "Bootcamp"
  }
 },
 "nbformat": 4,
 "nbformat_minor": 2
}