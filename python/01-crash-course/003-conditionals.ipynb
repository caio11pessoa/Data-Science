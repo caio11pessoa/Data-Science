{
 "cells": [
  {
   "cell_type": "markdown",
   "metadata": {},
   "source": [
    "# Conditionals\n",
    "\n",
    "Estruturas condicionais agrupam blocos de código que são executados caso determinada condição seja cumprida."
   ]
  },
  {
   "cell_type": "code",
   "execution_count": 1,
   "metadata": {},
   "outputs": [
    {
     "output_type": "stream",
     "name": "stdout",
     "text": "condition1 is False and condition2 is True\n"
    }
   ],
   "source": [
    "condition1, condition2 = False, True\n",
    "\n",
    "if condition1:\n",
    "    print('condition1 is True')\n",
    "elif condition2:\n",
    "    print('condition1 is False and condition2 is True')\n",
    "else:\n",
    "    print('both conditions are False')"
   ]
  },
  {
   "cell_type": "markdown",
   "metadata": {},
   "source": [
    "Estruturas condicionais começam com `if`, apenas o bloco da primeira condição verdadeira (de cima para baixo) será executado.\n",
    "`elif` é uma contração para `else if`, comum em algoritmos.\n",
    "Caso nenhuma condição seja verdadeira, será executado o bloco `else`."
   ]
  }
 ],
 "metadata": {
  "language_info": {
   "codemirror_mode": {
    "name": "ipython",
    "version": 3
   },
   "file_extension": ".py",
   "mimetype": "text/x-python",
   "name": "python",
   "nbconvert_exporter": "python",
   "pygments_lexer": "ipython3",
   "version": "3.7.7-final"
  },
  "orig_nbformat": 2,
  "kernelspec": {
   "name": "bootcamp_venv",
   "display_name": "Bootcamp"
  }
 },
 "nbformat": 4,
 "nbformat_minor": 2
}