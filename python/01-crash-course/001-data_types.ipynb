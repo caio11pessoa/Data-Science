{
 "cells": [
  {
   "cell_type": "markdown",
   "metadata": {},
   "source": [
    "# Data Types\n",
    "\n",
    "_Overview_ sobre os principais tipos de dados em **Python**.\n",
    "\n",
    "- Data types\n",
    "    * Numbers\n",
    "    * Strings\n",
    "    * Printing\n",
    "    * Lists\n",
    "    * Dictionaries\n",
    "    * Booleans\n",
    "    * Tuples \n",
    "    * Sets\n",
    "\n",
    "## Numbers\n",
    "\n",
    "Os principais tipos numéricos em python são `int` e `float`, e também há o tipo `complex` representando o conjunto dos números complexos."
   ]
  },
  {
   "cell_type": "code",
   "execution_count": 1,
   "metadata": {},
   "outputs": [
    {
     "output_type": "execute_result",
     "data": {
      "text/plain": "(1, int)"
     },
     "metadata": {},
     "execution_count": 1
    }
   ],
   "source": [
    "1, type(1)"
   ]
  },
  {
   "cell_type": "code",
   "execution_count": 2,
   "metadata": {},
   "outputs": [
    {
     "output_type": "execute_result",
     "data": {
      "text/plain": "(1.0, float)"
     },
     "metadata": {},
     "execution_count": 2
    }
   ],
   "source": [
    "1., type(1.)"
   ]
  },
  {
   "cell_type": "markdown",
   "metadata": {},
   "source": [
    "### Operações\n",
    "\n",
    "Ambos, `int` e `float`, suportam diversas operações aritméticas, tais como:"
   ]
  },
  {
   "cell_type": "code",
   "execution_count": 3,
   "metadata": {},
   "outputs": [
    {
     "output_type": "execute_result",
     "data": {
      "text/plain": "2"
     },
     "metadata": {},
     "execution_count": 3
    }
   ],
   "source": [
    "# Adição\n",
    "1 + 1"
   ]
  },
  {
   "cell_type": "code",
   "execution_count": 4,
   "metadata": {},
   "outputs": [
    {
     "output_type": "execute_result",
     "data": {
      "text/plain": "0"
     },
     "metadata": {},
     "execution_count": 4
    }
   ],
   "source": [
    "# Subtração\n",
    "1 - 1"
   ]
  },
  {
   "cell_type": "code",
   "execution_count": 5,
   "metadata": {},
   "outputs": [
    {
     "output_type": "execute_result",
     "data": {
      "text/plain": "6"
     },
     "metadata": {},
     "execution_count": 5
    }
   ],
   "source": [
    "# Multiplicação\n",
    "2 * 3"
   ]
  },
  {
   "cell_type": "code",
   "execution_count": 6,
   "metadata": {},
   "outputs": [
    {
     "output_type": "execute_result",
     "data": {
      "text/plain": "2.5"
     },
     "metadata": {},
     "execution_count": 6
    }
   ],
   "source": [
    "# Divisão\n",
    "5 / 2"
   ]
  },
  {
   "cell_type": "code",
   "execution_count": 7,
   "metadata": {},
   "outputs": [
    {
     "output_type": "execute_result",
     "data": {
      "text/plain": "2"
     },
     "metadata": {},
     "execution_count": 7
    }
   ],
   "source": [
    "# Divisão inteira\n",
    "5 // 2"
   ]
  },
  {
   "cell_type": "code",
   "execution_count": 8,
   "metadata": {},
   "outputs": [
    {
     "output_type": "execute_result",
     "data": {
      "text/plain": "2"
     },
     "metadata": {},
     "execution_count": 8
    }
   ],
   "source": [
    "# Módulo (resto da divisão inteira)\n",
    "5 // 2"
   ]
  },
  {
   "cell_type": "code",
   "execution_count": 9,
   "metadata": {},
   "outputs": [
    {
     "output_type": "execute_result",
     "data": {
      "text/plain": "9"
     },
     "metadata": {},
     "execution_count": 9
    }
   ],
   "source": [
    "# Exponenciação\n",
    "3 ** 2"
   ]
  },
  {
   "cell_type": "code",
   "execution_count": 10,
   "metadata": {},
   "outputs": [
    {
     "output_type": "execute_result",
     "data": {
      "text/plain": "(30, 56)"
     },
     "metadata": {},
     "execution_count": 10
    }
   ],
   "source": [
    "# Como na matemática, certas operações possuem prioridade assim como operações entre parentesis\n",
    "2 + 5 * 5 + 3, (2 + 5) * (5 + 3)"
   ]
  },
  {
   "cell_type": "markdown",
   "metadata": {},
   "source": [
    "## Atribuição de variáveis\n",
    "\n",
    "Em **Python** não há uma palavra reservada para declaração de variáveis, elas são declaradas dinamicamente ao atribuir (com o operador de atribuição `=`) algum valor para o nome da variável.\n",
    "\n",
    "Caso tente acessar uma variável que nunca foi declarada, resultará em um erro."
   ]
  },
  {
   "cell_type": "code",
   "execution_count": 11,
   "metadata": {},
   "outputs": [],
   "source": [
    "variable = 42"
   ]
  },
  {
   "cell_type": "markdown",
   "metadata": {},
   "source": [
    "## Strings\n",
    "\n",
    "`strings` são úteis para armazenar valores textuais, sequências de caracteres, e podem ser declaradas de 3 formas."
   ]
  },
  {
   "cell_type": "code",
   "execution_count": 12,
   "metadata": {},
   "outputs": [
    {
     "output_type": "execute_result",
     "data": {
      "text/plain": "str"
     },
     "metadata": {},
     "execution_count": 12
    }
   ],
   "source": [
    "# Apóstrofo (\"aspas simples\")\n",
    "'texto 1'\n",
    "\n",
    "# Aspas duplas\n",
    "\"texto 2\"\n",
    "\n",
    "# Docstring (usada principalmente para documentação) o texto fica entre 3 pares de aspas duplas ou simples\n",
    "'''forma 1'''\n",
    "\"\"\"forma 2\"\"\"\n",
    "\n",
    "type(str())"
   ]
  },
  {
   "cell_type": "markdown",
   "metadata": {},
   "source": [
    "## Print Formatting\n",
    "\n",
    "É comum utilizar a função `print` para exibir mensagens no console, e as vezes é preciso formatar essa saída de acordo com alguma variável."
   ]
  },
  {
   "cell_type": "code",
   "execution_count": 13,
   "metadata": {},
   "outputs": [
    {
     "output_type": "stream",
     "name": "stdout",
     "text": "1. Meu nome é Anilton e este ano é 2020\n2. Meu nome é Anilton e este ano é 2020\n3. Meu nome é Anilton e este ano é 2020\n"
    }
   ],
   "source": [
    "name = 'Anilton'\n",
    "year = 2020\n",
    "\n",
    "# utilizando .format, passando os argumentos em ordem\n",
    "print('1. Meu nome é {} e este ano é {}'.format(name, year))\n",
    "\n",
    "# utilizando .format com chaves mapeadas, assim os argumentos não necessitam mais estar em ordem.\n",
    "print('2. Meu nome é {one} e este ano é {two}'.format(two=year, one=name))\n",
    "\n",
    "# com f antes da string, as variáveis podem ser colocadas diretamente entre chaves, porém pode não funcionar se houverem multiplass funções dentro\n",
    "print(f'3. Meu nome é {name} e este ano é {year}')"
   ]
  },
  {
   "cell_type": "code",
   "execution_count": 14,
   "metadata": {},
   "outputs": [
    {
     "output_type": "execute_result",
     "data": {
      "text/plain": "('s', 'g', 'g', 'tri')"
     },
     "metadata": {},
     "execution_count": 14
    }
   ],
   "source": [
    "# string é uma estrutura indexada, então seus elementos podem ser acessados por um índice ou uma \"fatia\"\n",
    "string = 'string'\n",
    "string[0], string[5], string[-1], string[1:4]"
   ]
  },
  {
   "cell_type": "markdown",
   "metadata": {},
   "source": [
    "# Lists\n",
    "\n",
    "Listas são estruturas indexadas, armazenam uma sequência de elementos que podem ser de multiplos tipos, pondendo até armazenar listas dentro de listas"
   ]
  },
  {
   "cell_type": "code",
   "execution_count": 15,
   "metadata": {},
   "outputs": [
    {
     "output_type": "execute_result",
     "data": {
      "text/plain": "[5, 4, 3, 2]"
     },
     "metadata": {},
     "execution_count": 15
    }
   ],
   "source": [
    "vetor = [5, 4, 3, 2]\n",
    "vetor"
   ]
  },
  {
   "cell_type": "code",
   "execution_count": 16,
   "metadata": {},
   "outputs": [
    {
     "output_type": "execute_result",
     "data": {
      "text/plain": "[5, 4, 3, 2, 1]"
     },
     "metadata": {},
     "execution_count": 16
    }
   ],
   "source": [
    "vetor.append(1)\n",
    "vetor"
   ]
  },
  {
   "cell_type": "code",
   "execution_count": 17,
   "metadata": {},
   "outputs": [
    {
     "output_type": "execute_result",
     "data": {
      "text/plain": "15"
     },
     "metadata": {},
     "execution_count": 17
    }
   ],
   "source": [
    "sum(vetor)"
   ]
  },
  {
   "cell_type": "markdown",
   "metadata": {},
   "source": [
    "## Dictionaries\n",
    "\n",
    "Dicionários armazenam um par chave-valor que podem ser criados dinamicamente, onde o valor pode ser qualquer tipo de dado, até mesmo outros dicionários."
   ]
  },
  {
   "cell_type": "code",
   "execution_count": 18,
   "metadata": {},
   "outputs": [
    {
     "output_type": "execute_result",
     "data": {
      "text/plain": "{'key1': 'value1', 'key2': 42}"
     },
     "metadata": {},
     "execution_count": 18
    }
   ],
   "source": [
    "dicionario = {'key1':'value1', 'key2':42}\n",
    "dicionario"
   ]
  },
  {
   "cell_type": "code",
   "execution_count": 19,
   "metadata": {},
   "outputs": [
    {
     "output_type": "execute_result",
     "data": {
      "text/plain": "'value1'"
     },
     "metadata": {},
     "execution_count": 19
    }
   ],
   "source": [
    "dicionario['key1']"
   ]
  },
  {
   "cell_type": "markdown",
   "metadata": {},
   "source": [
    "## Booleans\n",
    "\n",
    "Dados do tipo `boolean` são verdadeiro ou falso."
   ]
  },
  {
   "cell_type": "code",
   "execution_count": 20,
   "metadata": {},
   "outputs": [
    {
     "output_type": "execute_result",
     "data": {
      "text/plain": "False"
     },
     "metadata": {},
     "execution_count": 20
    }
   ],
   "source": [
    "verdadeiro = True\n",
    "falso = False\n",
    "\n",
    "verdadeiro and falso"
   ]
  },
  {
   "cell_type": "markdown",
   "metadata": {},
   "source": [
    "## Tuples\n",
    "\n",
    "Tuplas são como listas, armazenam dados heterogêneos e que podem ser acessados por um índice, a principal diferença é que uma tupla é declarada com parêntesis e seus ítens não podem ser alterados após declarados."
   ]
  },
  {
   "cell_type": "code",
   "execution_count": 21,
   "metadata": {},
   "outputs": [
    {
     "output_type": "execute_result",
     "data": {
      "text/plain": "(1, 'b', 'ce')"
     },
     "metadata": {},
     "execution_count": 21
    }
   ],
   "source": [
    "tup = (1, 'b', 'ce')\n",
    "tup"
   ]
  },
  {
   "cell_type": "markdown",
   "metadata": {},
   "source": [
    "## Sets\n",
    "\n",
    "Conjuntos são coleções de elementos únicos, limitados por chaves e diferencia-se de um dicionário por seus elementos não serem numa estrutura chave-valor "
   ]
  },
  {
   "cell_type": "code",
   "execution_count": 22,
   "metadata": {},
   "outputs": [
    {
     "output_type": "execute_result",
     "data": {
      "text/plain": "({1, 2, 3, 'top'}, set)"
     },
     "metadata": {},
     "execution_count": 22
    }
   ],
   "source": [
    "conjunto = {1, 1, 1, 2, 3, 'top', 'top', 2}\n",
    "conjunto, type(conjunto)"
   ]
  },
  {
   "cell_type": "code",
   "execution_count": 23,
   "metadata": {},
   "outputs": [
    {
     "output_type": "execute_result",
     "data": {
      "text/plain": "True"
     },
     "metadata": {},
     "execution_count": 23
    }
   ],
   "source": [
    "1 in conjunto"
   ]
  }
 ],
 "metadata": {
  "language_info": {
   "codemirror_mode": {
    "name": "ipython",
    "version": 3
   },
   "file_extension": ".py",
   "mimetype": "text/x-python",
   "name": "python",
   "nbconvert_exporter": "python",
   "pygments_lexer": "ipython3",
   "version": "3.7.7-final"
  },
  "orig_nbformat": 2,
  "kernelspec": {
   "name": "bootcamp_venv",
   "display_name": "Bootcamp"
  }
 },
 "nbformat": 4,
 "nbformat_minor": 2
}